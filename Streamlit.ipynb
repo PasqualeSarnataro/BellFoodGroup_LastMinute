{
 "cells": [
  {
   "cell_type": "code",
   "execution_count": 1,
   "id": "d9aece67",
   "metadata": {},
   "outputs": [
    {
     "name": "stderr",
     "output_type": "stream",
     "text": [
      "2023-03-23 20:49:00.535 \n",
      "  \u001b[33m\u001b[1mWarning:\u001b[0m to view this Streamlit app on a browser, run it with the following\n",
      "  command:\n",
      "\n",
      "    streamlit run C:\\Users\\pacos\\anaconda3\\lib\\site-packages\\ipykernel_launcher.py [ARGUMENTS]\n"
     ]
    }
   ],
   "source": [
    "import streamlit as st\n",
    "import pandas as pd\n",
    "import math\n",
    "\n",
    "# Load the airports data\n",
    "airports_df = pd.read_csv(\"https://raw.githubusercontent.com/jpatokal/openflights/master/data/airports.dat\",\n",
    "                          header=None,\n",
    "                          names=['Airport ID', 'Name', 'City', 'Country', 'IATA', 'ICAO', 'Latitude', 'Longitude', 'Altitude', 'Timezone', 'DST', 'Tz database time zone', 'Type', 'Source'])\n",
    "airports_df = airports_df[airports_df['IATA'].notna()]\n",
    "\n",
    "# Define a function to calculate the distance between two airports\n",
    "def calculate_distance(lat1, lon1, lat2, lon2):\n",
    "    r = 6371  # Radius of the earth in km\n",
    "    dLat = math.radians(lat2 - lat1)\n",
    "    dLon = math.radians(lon2 - lon1)\n",
    "    a = math.sin(dLat / 2) * math.sin(dLat / 2) + math.cos(math.radians(lat1)) * math.cos(math.radians(lat2)) * math.sin(dLon / 2) * math.sin(dLon / 2)\n",
    "    c = 2 * math.atan2(math.sqrt(a), math.sqrt(1 - a))\n",
    "    distance = r * c  # Distance in km\n",
    "    return distance\n",
    "\n",
    "# Define a function to calculate the carbon emissions for a given distance and aircraft type\n",
    "def calculate_carbon_emissions(distance, aircraft_type):\n",
    "    if aircraft_type == 'A320':\n",
    "        fuel_consumption = 0.0348 * distance + 0.4436\n",
    "    elif aircraft_type == 'B737':\n",
    "        fuel_consumption = 0.0381 * distance + 0.4086\n",
    "    elif aircraft_type == 'B787':\n",
    "        fuel_consumption = 0.0253 * distance + 0.5723\n",
    "    else:\n",
    "        fuel_consumption = 0.0\n",
    "    carbon_intensity = 3.15  # Carbon intensity of aviation fuel in kg CO2 per liter\n",
    "    fuel_consumption_liter = fuel_consumption / 2.67  # Conversion from kg to liters\n",
    "    carbon_emissions = fuel_consumption_liter * carbon_intensity * 1000  # Carbon emissions in kg\n",
    "    return carbon_emissions\n",
    "\n",
    "# Define the Streamlit app\n",
    "def app():\n",
    "    st.title(\"Airport Carbon Footprint Calculator\")\n",
    "\n",
    "    # Sidebar input for the airports\n",
    "    st.sidebar.title(\"Airport selection\")\n",
    "    from_airport = st.sidebar.selectbox(\"From airport\", airports_df['IATA'])\n",
    "    to_airport = st.sidebar.selectbox(\"To airport\", airports_df['IATA'])\n",
    "\n",
    "    # Sidebar input for the aircraft type\n",
    "    st.sidebar.title(\"Aircraft selection\")\n",
    "    aircraft_type = st.sidebar.selectbox(\"Aircraft type\", [\"A320\", \"B737\", \"B787\"])\n",
    "\n",
    "    # Calculate the distance and carbon emissions\n",
    "    from_lat, from_lon = airports_df.loc[airports_df['IATA'] == from_airport, ['Latitude', 'Longitude']].iloc[0]\n",
    "    to_lat, to_lon = airports_df.loc[airports_df['IATA'] == to_airport, ['Latitude', 'Longitude']].iloc[0]\n",
    "    distance = calculate_distance(from_lat, from_lon, to_lat, to_lon)\n",
    "    carbon_emissions = calculate_carbon_emissions(distance, aircraft_type)\n",
    "\n",
    "    # Display the results\n",
    "    st.write(\"Distance:\", round(distance, 2), \"km\")\n",
    "    st.write(\"Carbon emissions:\", round(carbon_emissions, 2), \"kg CO2\")\n",
    "\n",
    "# Run the app\n",
    "if __name__ == \"__main__\":\n",
    "    app()\n"
   ]
  }
 ],
 "metadata": {
  "kernelspec": {
   "display_name": "Python 3 (ipykernel)",
   "language": "python",
   "name": "python3"
  },
  "language_info": {
   "codemirror_mode": {
    "name": "ipython",
    "version": 3
   },
   "file_extension": ".py",
   "mimetype": "text/x-python",
   "name": "python",
   "nbconvert_exporter": "python",
   "pygments_lexer": "ipython3",
   "version": "3.8.8"
  }
 },
 "nbformat": 4,
 "nbformat_minor": 5
}
